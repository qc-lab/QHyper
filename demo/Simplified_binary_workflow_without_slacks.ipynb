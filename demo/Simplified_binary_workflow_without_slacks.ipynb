{
 "cells": [
  {
   "cell_type": "markdown",
   "id": "89685faf",
   "metadata": {},
   "source": [
    "### Demo na konferencję EuroHPC (case z kodowaniem binarnym i z QAOA) - draft\n",
    "DO ZMIANY: opis \n",
    "We will focus on the following workflow instance (for now, in the simplified problem, we will not use the Workflow or WorkflowSchedulingProblem classes, because we want to test the Unbalanced Penalization method https://arxiv.org/pdf/2211.13914.pdf), which is not included in QHyper. But I will leave it here just for reference (especially for observation of what data is in the time and cost matrices)."
   ]
  },
  {
   "cell_type": "code",
   "execution_count": 1,
   "id": "5d1c465f",
   "metadata": {},
   "outputs": [],
   "source": [
    "import sys\n",
    "sys.path.append(\"..\")\n",
    "from QHyper.problems.workflow_scheduling import (\n",
    "    Workflow,\n",
    "    WorkflowSchedulingProblem,\n",
    ")\n",
    "\n",
    "tasks_file =  \"workflows_data/workflows/3_tasks_3_machines_1_path.json\"\n",
    "machines_file = \"workflows_data/machines/machines_for_3_tasks_3_machines_1_path.json\"\n",
    "deadline = 13\n",
    "\n",
    "workflow = Workflow(tasks_file, machines_file, deadline)\n",
    "wsp = WorkflowSchedulingProblem(workflow)\n"
   ]
  },
  {
   "cell_type": "code",
   "execution_count": 2,
   "id": "dc65723e",
   "metadata": {},
   "outputs": [
    {
     "data": {
      "text/html": [
       "<div>\n",
       "<style scoped>\n",
       "    .dataframe tbody tr th:only-of-type {\n",
       "        vertical-align: middle;\n",
       "    }\n",
       "\n",
       "    .dataframe tbody tr th {\n",
       "        vertical-align: top;\n",
       "    }\n",
       "\n",
       "    .dataframe thead th {\n",
       "        text-align: right;\n",
       "    }\n",
       "</style>\n",
       "<table border=\"1\" class=\"dataframe\">\n",
       "  <thead>\n",
       "    <tr style=\"text-align: right;\">\n",
       "      <th></th>\n",
       "      <th>MachineA</th>\n",
       "      <th>MachineB</th>\n",
       "      <th>MachineC</th>\n",
       "    </tr>\n",
       "  </thead>\n",
       "  <tbody>\n",
       "    <tr>\n",
       "      <th>task1</th>\n",
       "      <td>6.0</td>\n",
       "      <td>8.0</td>\n",
       "      <td>8.0</td>\n",
       "    </tr>\n",
       "    <tr>\n",
       "      <th>task2</th>\n",
       "      <td>3.0</td>\n",
       "      <td>4.0</td>\n",
       "      <td>4.0</td>\n",
       "    </tr>\n",
       "    <tr>\n",
       "      <th>task3</th>\n",
       "      <td>12.0</td>\n",
       "      <td>16.0</td>\n",
       "      <td>16.0</td>\n",
       "    </tr>\n",
       "  </tbody>\n",
       "</table>\n",
       "</div>"
      ],
      "text/plain": [
       "       MachineA  MachineB  MachineC\n",
       "task1       6.0       8.0       8.0\n",
       "task2       3.0       4.0       4.0\n",
       "task3      12.0      16.0      16.0"
      ]
     },
     "execution_count": 2,
     "metadata": {},
     "output_type": "execute_result"
    }
   ],
   "source": [
    "wsp.workflow.cost_matrix\n"
   ]
  },
  {
   "cell_type": "markdown",
   "id": "923ed19b-7cd3-468c-b3cc-45b29fb0dd10",
   "metadata": {},
   "source": [
    "Uwaga: tutaj tak naprawdę jest dodana jeszcze jedna maszyna (liczba maszyn musi być 2^n)"
   ]
  },
  {
   "cell_type": "code",
   "execution_count": 3,
   "id": "2ed4a92c",
   "metadata": {},
   "outputs": [
    {
     "data": {
      "text/html": [
       "<div>\n",
       "<style scoped>\n",
       "    .dataframe tbody tr th:only-of-type {\n",
       "        vertical-align: middle;\n",
       "    }\n",
       "\n",
       "    .dataframe tbody tr th {\n",
       "        vertical-align: top;\n",
       "    }\n",
       "\n",
       "    .dataframe thead th {\n",
       "        text-align: right;\n",
       "    }\n",
       "</style>\n",
       "<table border=\"1\" class=\"dataframe\">\n",
       "  <thead>\n",
       "    <tr style=\"text-align: right;\">\n",
       "      <th></th>\n",
       "      <th>MachineA</th>\n",
       "      <th>MachineB</th>\n",
       "      <th>MachineC</th>\n",
       "    </tr>\n",
       "  </thead>\n",
       "  <tbody>\n",
       "    <tr>\n",
       "      <th>task1</th>\n",
       "      <td>6.0</td>\n",
       "      <td>2.0</td>\n",
       "      <td>4.0</td>\n",
       "    </tr>\n",
       "    <tr>\n",
       "      <th>task2</th>\n",
       "      <td>3.0</td>\n",
       "      <td>1.0</td>\n",
       "      <td>2.0</td>\n",
       "    </tr>\n",
       "    <tr>\n",
       "      <th>task3</th>\n",
       "      <td>12.0</td>\n",
       "      <td>4.0</td>\n",
       "      <td>8.0</td>\n",
       "    </tr>\n",
       "  </tbody>\n",
       "</table>\n",
       "</div>"
      ],
      "text/plain": [
       "       MachineA  MachineB  MachineC\n",
       "task1       6.0       2.0       4.0\n",
       "task2       3.0       1.0       2.0\n",
       "task3      12.0       4.0       8.0"
      ]
     },
     "execution_count": 3,
     "metadata": {},
     "output_type": "execute_result"
    }
   ],
   "source": [
    "wsp.workflow.time_matrix\n"
   ]
  },
  {
   "cell_type": "markdown",
   "id": "627053d2",
   "metadata": {},
   "source": [
    "Below is the list of the hyperparameters (weights) that can be changed.  I assumed that the weights hyper_b, hyper_c, hyper_d can be the same, since the constraint they represent has a very similar form."
   ]
  },
  {
   "cell_type": "code",
   "execution_count": 4,
   "id": "3ef3d11e-e0d7-4c76-95da-bfda23fa4561",
   "metadata": {},
   "outputs": [],
   "source": [
    "hyper_params = {'cost_function_weight': 1, # weight for: cost function\n",
    "               'deadline_linear_form_weight': -2, # weight for: deadline constraint - linear form (-- this is from the unbalanced penalization approach)\n",
    "                'deadline_quadratic_form_weight': 2} # weight for: deadline constraint - quadratic form\n"
   ]
  },
  {
   "cell_type": "markdown",
   "id": "8a03a332-113a-433f-ad5d-24e51344a1ac",
   "metadata": {},
   "source": [
    " DO ZMIANY: generacja tych wzorów z WFCommons"
   ]
  },
  {
   "cell_type": "code",
   "execution_count": 5,
   "id": "d68cd9ae",
   "metadata": {},
   "outputs": [],
   "source": [
    "import numpy as np\n",
    "import sympy\n",
    "from sympy.core.expr import Expr\n",
    "\n",
    "from QHyper.problems.base import Problem\n",
    "from QHyper.util import Expression\n",
    "\n",
    "\n",
    "class SimpleWorkflowProblem(Problem):\n",
    "\n",
    "\n",
    "    def __init__(self) -> None:\n",
    "        #uwaga: to jest na sztywno\n",
    "        num_of_qubits = 6 #wsp.workflow.cost_matrix.shape[0] * wsp.workflow.cost_matrix.shape[1]\n",
    "        self.variables = sympy.symbols(' '.join([f'x{i}' for i in range(num_of_qubits)]))\n",
    "        self._set_objective_function()\n",
    "        self._set_constraints()\n",
    "\n",
    "    def _set_objective_function(self) -> None:\n",
    "\n",
    "        C_f = (6.0*(1-self.variables[0])*(1-self.variables[1])\n",
    "        + 8.0*(1-self.variables[0])*(self.variables[1])\n",
    "        + 8.0*(self.variables[0])*(1-self.variables[1])\n",
    "        + 2.0*(self.variables[0])*(self.variables[1])\n",
    "        + 3.0*(1-self.variables[2])*(1-self.variables[3])\n",
    "        + 4.0*(1-self.variables[2])*(self.variables[3])\n",
    "        + 4.0*(self.variables[2])*(1-self.variables[3])\n",
    "        + 1.0*(self.variables[2])*(self.variables[3])\n",
    "        + 12.0*(1-self.variables[4])*(1-self.variables[5])\n",
    "        + 16.0*(1-self.variables[4])*(self.variables[5])\n",
    "        + 16.0*(self.variables[4])*(1-self.variables[5])\n",
    "        + 4.0*(self.variables[4])*(self.variables[5])  )\n",
    "\n",
    "        self.deadline_aux=(6.0*(1-self.variables[0])*(1-self.variables[1])\n",
    "       + 2.0*(1-self.variables[0])*(self.variables[1])\n",
    "        + 4.0*(self.variables[0])*(1-self.variables[1])\n",
    "        + 16.0*(self.variables[0])*(self.variables[1])\n",
    "        + 3.0*(1-self.variables[2])*(1-self.variables[3])\n",
    "        + 1.0*(1-self.variables[2])*(self.variables[3])\n",
    "        + 2.0*(self.variables[2])*(1-self.variables[3])\n",
    "        + 8.0*(self.variables[2])*(self.variables[3])\n",
    "        + 12.0*(1-self.variables[4])*(1-self.variables[5])\n",
    "        + 4.0*(1-self.variables[4])*(self.variables[5])\n",
    "        + 8.0*(self.variables[4])*(1-self.variables[5])\n",
    "        + 32.0*(self.variables[4])*(self.variables[5])  )\n",
    "\n",
    "        K_f4_linear = deadline - self.deadline_aux\n",
    "        K_f4_squared=K_f4_linear**2\n",
    "        K_f4_squared1=sympy.expand(K_f4_squared)\n",
    "\n",
    "       # print(K_f4_squared1, \"\\n\\n\")\n",
    "\n",
    "        for i in range(6):\n",
    "            K_f4_squared1=K_f4_squared1.subs(self.variables[i]**2, self.variables[i])\n",
    "        #print(K_f4_squared1,\"\\n\\n\")\n",
    "\n",
    "       # print(K_f4_squared1)\n",
    "        self.objective_function = (Expression(hyper_params['cost_function_weight'] * C_f\n",
    "                                              + hyper_params['deadline_linear_form_weight'] *  K_f4_linear\n",
    "                                   + hyper_params['deadline_quadratic_form_weight'] * K_f4_linear**2))\n",
    "\n",
    "    def _set_constraints(self):\n",
    "       # print(self.deadline_aux)\n",
    "\n",
    "\n",
    "\n",
    "\n",
    "        self.constraints = []\n",
    "\n",
    "    def get_score(self, result, penalty=0):\n",
    "\n",
    "        x = [int(val) for val in result]\n",
    "\n",
    "        if (6.0*(1.0-x[0])*(1-x[1])\n",
    "        + 2.0*(1.0-x[0])*(x[1])\n",
    "        + 4.0*(x[0])*(1.0-x[1])\n",
    "        + 16.0*(x[0])*(x[1])\n",
    "        + 3.0*(1.0-x[2])*(1.0-x[3])\n",
    "        + 1.0*(1.0-x[2])*(x[3])\n",
    "        + 2.0*(x[2])*(1.0-x[3])\n",
    "        + 8.0*(x[2])*(x[3])\n",
    "        + 12.0*(1.0-x[4])*(1.0-x[5])\n",
    "        + 4.0*(1.0-x[4])*(x[5])\n",
    "        + 8.0*(x[4])*(1.0-x[5])\n",
    "        + 32.0*(x[4])*(x[5]) <=13 ):\n",
    "\n",
    "            return (6.0*(1.0-x[0])*(1.0-x[1])\n",
    "        + 8.0*(1.0-x[0])*(x[1])\n",
    "        + 8.0*(x[0])*(1.0-x[1])\n",
    "        + 2.0*(x[0])*(x[1])\n",
    "        + 3.0*(1.0-x[2])*(1.0-x[3])\n",
    "        + 4.0*(1.0-x[2])*(x[3])\n",
    "        + 4.0*(x[2])*(1.0-x[3])\n",
    "        + 1.0*(x[2])*(x[3])\n",
    "        + 12.0*(1.0-x[4])*(1.0-x[5])\n",
    "        + 16.0*(1.0-x[4])*(x[5])\n",
    "        + 16.0*(x[4])*(1.0-x[5])\n",
    "        + 4.0*(x[4])*(x[5]) )\n",
    "\n",
    "        return penalty\n"
   ]
  },
  {
   "cell_type": "code",
   "execution_count": 6,
   "id": "998e39fa",
   "metadata": {},
   "outputs": [],
   "source": [
    "problem = SimpleWorkflowProblem()\n"
   ]
  },
  {
   "cell_type": "code",
   "execution_count": 7,
   "id": "b914cd22",
   "metadata": {},
   "outputs": [
    {
     "name": "stdout",
     "output_type": "stream",
     "text": [
      "Variables used to describe objective function and constraints: (x0, x1, x2, x3, x4, x5)\n",
      "Objective function: {('x0', 'x0', 'x1', 'x1'): 512.0, ('x0', 'x0', 'x1'): -128.0, ('x0', 'x0'): 8.0, ('x0', 'x1', 'x1'): -256.0, ('x0', 'x1', 'x2', 'x3'): 512.0, ('x0', 'x1', 'x2'): -64.0, ('x0', 'x1', 'x3'): -128.0, ('x0', 'x1', 'x4', 'x5'): 2048.0, ('x0', 'x1', 'x4'): -256.0, ('x0', 'x1', 'x5'): -512.0, ('x0', 'x1'): 568.0, ('x0', 'x2', 'x3'): -64.0, ('x0', 'x2'): 8.0, ('x0', 'x3'): 16.0, ('x0', 'x4', 'x5'): -256.0, ('x0', 'x4'): 32.0, ('x0', 'x5'): 64.0, ('x0',): -66.0, ('x1', 'x1'): 32.0, ('x1', 'x2', 'x3'): -128.0, ('x1', 'x2'): 16.0, ('x1', 'x3'): 32.0, ('x1', 'x4', 'x5'): -512.0, ('x1', 'x4'): 64.0, ('x1', 'x5'): 128.0, ('x1',): -134.0, ('x2', 'x2', 'x3', 'x3'): 128.0, ('x2', 'x2', 'x3'): -32.0, ('x2', 'x2'): 2.0, ('x2', 'x3', 'x3'): -64.0, ('x2', 'x3', 'x4', 'x5'): 1024.0, ('x2', 'x3', 'x4'): -128.0, ('x2', 'x3', 'x5'): -256.0, ('x2', 'x3'): 276.0, ('x2', 'x4', 'x5'): -128.0, ('x2', 'x4'): 16.0, ('x2', 'x5'): 32.0, ('x2',): -33.0, ('x3', 'x3'): 8.0, ('x3', 'x4', 'x5'): -256.0, ('x3', 'x4'): 32.0, ('x3', 'x5'): 64.0, ('x3',): -67.0, ('x4', 'x4', 'x5', 'x5'): 2048.0, ('x4', 'x4', 'x5'): -512.0, ('x4', 'x4'): 32.0, ('x4', 'x5', 'x5'): -1024.0, ('x4', 'x5'): 1200.0, ('x4',): -132.0, ('x5', 'x5'): 128.0, ('x5',): -268.0, (): 165.0}\n",
      "Constraints (RHS == 0):\n"
     ]
    }
   ],
   "source": [
    "print(f\"Variables used to describe objective function\"\n",
    "      f\" and constraints: {problem.variables}\")\n",
    "print(f\"Objective function: {problem.objective_function}\")\n",
    "print(\"Constraints (RHS == 0):\")\n",
    "for constraint in problem.constraints:\n",
    "    print(f\"    {constraint}\")\n"
   ]
  },
  {
   "cell_type": "markdown",
   "id": "9852e256",
   "metadata": {},
   "source": [
    "# 3 Using QHyper"
   ]
  },
  {
   "cell_type": "markdown",
   "id": "a7d1d81d",
   "metadata": {},
   "source": [
    "Do zmiany - konfiguracja wag"
   ]
  },
  {
   "cell_type": "code",
   "execution_count": 9,
   "id": "f9d96cf4",
   "metadata": {},
   "outputs": [],
   "source": [
    "params_config = {\n",
    "       'angles': [[0.1e-13]*6, [np.pi/2]*6], # QAOA angles - first we have gammas (for the cost Hamiltonian), then we have betas (for the mixer)\n",
    "    #'angles': [[3.23810485e-04,  3.89068182e-04,  4.08362541e-04,  2.18136406e-04,\n",
    "   #3.91692476e-04,  3.01205096e-04],\n",
    " #[-2.51645530e+02, -1.22816763e+02, -1.20555243e+02, -9.45352537e+01,\n",
    "  #-9.88528753e+01, -8.19648493e+01]] , \n",
    "    'hyper_args': [1, # do not change - this should be the weight for the 'cost function' but since in our cost function\n",
    "                          # we also have the deadline in the linear form (as of now it needs to be implemented this way due to QHyper limitations)\n",
    "                          # the weight for the actual cost function is set there. THIS WILL NOT WORK WELL WITH HYPER-QAOA.\n",
    "\n",
    "                       ],\n",
    "    }\n"
   ]
  },
  {
   "cell_type": "code",
   "execution_count": 19,
   "id": "8dbdf752",
   "metadata": {},
   "outputs": [],
   "source": [
    "# Create a VQA instance with QAOA as PQC and scipy optimizer\n",
    "# This can be done in two various way\n",
    "# 1. Providing dict with config (usefull to save experiment confing in e.g JSON)\n",
    "# DO ZMIANY sqaoa -> qaoa (backend= \"default.qubit\") oraz QNG optimiser (krok 0.0001) 50 krokow\n",
    "from QHyper.solvers import VQA\n",
    "\n",
    "solver_config = {\n",
    "    \"pqc\": {\n",
    "        \"type\": \"qml_qaoa\",\n",
    "        \"layers\": 6,\n",
    "        \"optimizer\": \"qng\",\n",
    "        \"optimizer_args\": {\n",
    "            \"stepsize\": 0.0001,\n",
    "            \"steps\": 10,\n",
    "            \"verbose\": True,\n",
    "        },\n",
    "        \"backend\": \"default.qubit\",\n",
    "    },\n",
    "    \"params_inits\": params_config\n",
    "}\n",
    "vqa = VQA.from_config(problem, config=solver_config)\n"
   ]
  },
  {
   "cell_type": "code",
   "execution_count": null,
   "id": "3b72c785",
   "metadata": {},
   "outputs": [],
   "source": [
    "solver_results = vqa.solve()\n"
   ]
  },
  {
   "cell_type": "code",
   "execution_count": null,
   "id": "ec96ded3",
   "metadata": {},
   "outputs": [],
   "source": [
    "print(f\"Best params: {solver_results.params}\")\n"
   ]
  },
  {
   "cell_type": "code",
   "execution_count": null,
   "id": "b47dd5ee",
   "metadata": {},
   "outputs": [],
   "source": [
    "from QHyper.util import (\n",
    "    weighted_avg_evaluation, sort_solver_results, add_evaluation_to_results)\n",
    "\n",
    "# Evaluate results with weighted average evaluation\n",
    "print(\"Evaluation:\")\n",
    "print(weighted_avg_evaluation(\n",
    "    solver_results.results_probabilities, problem.get_score,\n",
    "    penalty=0, limit_results=64, normalize=True\n",
    "))\n",
    "print(\"Sort results:\")\n",
    "sorted_results = sort_solver_results(\n",
    "    solver_results.results_probabilities, limit_results=64)\n",
    "\n",
    "# Add evaluation to results\n",
    "results_with_evaluation = add_evaluation_to_results(\n",
    "    sorted_results, problem.get_score, penalty=0)\n",
    "\n",
    "for result, (probability, evaluation) in results_with_evaluation.items():\n",
    "    print(f\"Result: {result}, \"\n",
    "          f\"Prob: {probability:.5}, \"\n",
    "          f\"Evaluation: {evaluation}\")\n"
   ]
  },
  {
   "cell_type": "code",
   "execution_count": null,
   "id": "554606e3",
   "metadata": {},
   "outputs": [],
   "source": [
    "import pandas as pd\n",
    "\n",
    "pd.DataFrame(solver_results.history[0]).reset_index().plot(x='index',y='value', kind='scatter')\n"
   ]
  },
  {
   "cell_type": "code",
   "execution_count": null,
   "id": "bcbf9e37-3def-4c7e-b955-cb811b09d344",
   "metadata": {},
   "outputs": [],
   "source": [
    "from QHyper.solvers import VQA\n",
    "tester_config = {\n",
    "    'pqc': {\n",
    "        'type': 'wfqaoa',\n",
    "        'layers': 6,\n",
    "    }\n",
    "}\n",
    "\n",
    "tester = VQA.from_config(problem, config=tester_config)"
   ]
  },
  {
   "cell_type": "code",
   "execution_count": null,
   "id": "8c67326c-304c-4459-bf61-0ff5faefcb41",
   "metadata": {},
   "outputs": [],
   "source": [
    "bp={'angles': ([[ 3.23810485e-04,  3.89068182e-04,  4.08362541e-04,\n",
    "          2.18136406e-04,  3.91692476e-04,  3.01205096e-04],\n",
    "        [-2.51645530e+02, -1.22816763e+02, -1.20555243e+02,\n",
    "         -9.45352537e+01, -9.88528753e+01, -8.19648493e+01]]), 'hyper_args': [1]}\n",
    "#bp={'angles':([[0.1e-13]*6, [np.pi/2]*6]), 'hyper_args': [1]}"
   ]
  },
  {
   "cell_type": "code",
   "execution_count": null,
   "id": "bdf2cb5b-4b8a-4489-833e-4bc5adb48dd1",
   "metadata": {},
   "outputs": [],
   "source": [
    "solver_results=tester.solve(bp)"
   ]
  },
  {
   "cell_type": "code",
   "execution_count": null,
   "id": "87ef87a1",
   "metadata": {},
   "outputs": [],
   "source": [
    "#print(solver_results.history[0])"
   ]
  },
  {
   "cell_type": "code",
   "execution_count": null,
   "id": "ccf87a8d-e273-403e-9700-2be10ed7854b",
   "metadata": {},
   "outputs": [],
   "source": []
  },
  {
   "cell_type": "code",
   "execution_count": null,
   "id": "bf440e5c-645b-4571-9345-5c59ece83836",
   "metadata": {},
   "outputs": [],
   "source": []
  },
  {
   "cell_type": "code",
   "execution_count": null,
   "id": "22137cc5-5646-4645-b880-fc0e399af895",
   "metadata": {},
   "outputs": [],
   "source": []
  }
 ],
 "metadata": {
  "celltoolbar": "Raw Cell Format",
  "kernelspec": {
   "display_name": "Python 3 (ipykernel)",
   "language": "python",
   "name": "python3"
  },
  "language_info": {
   "codemirror_mode": {
    "name": "ipython",
    "version": 3
   },
   "file_extension": ".py",
   "mimetype": "text/x-python",
   "name": "python",
   "nbconvert_exporter": "python",
   "pygments_lexer": "ipython3",
   "version": "3.10.12"
  }
 },
 "nbformat": 4,
 "nbformat_minor": 5
}
