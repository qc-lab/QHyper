{
 "cells": [
  {
   "cell_type": "markdown",
   "id": "89685faf",
   "metadata": {},
   "source": [
    "### Demo na konferencję EuroHPC (case z kodowaniem binarnym i z QAOA) - draft\n",
    "DO ZMIANY: opis \n",
    "We will focus on the following workflow instance (for now, in the simplified problem, we will not use the Workflow or WorkflowSchedulingProblem classes, because we want to test the Unbalanced Penalization method https://arxiv.org/pdf/2211.13914.pdf), which is not included in QHyper. But I will leave it here just for reference (especially for observation of what data is in the time and cost matrices)."
   ]
  },
  {
   "cell_type": "code",
   "execution_count": 1,
   "id": "5d1c465f",
   "metadata": {},
   "outputs": [],
   "source": [
    "import sys\n",
    "sys.path.append(\"..\")\n",
    "from QHyper.problems.workflow_scheduling import (\n",
    "    Workflow,\n",
    "    WorkflowSchedulingProblem,\n",
    ")\n",
    "\n",
    "tasks_file =  \"workflows_data/workflows/3_tasks_3_machines_1_path.json\"\n",
    "machines_file = \"workflows_data/machines/machines_for_3_tasks_3_machines_1_path.json\"\n",
    "deadline = 13\n",
    "\n",
    "workflow = Workflow(tasks_file, machines_file, deadline)\n",
    "wsp = WorkflowSchedulingProblem(workflow)\n"
   ]
  },
  {
   "cell_type": "code",
   "execution_count": 2,
   "id": "dc65723e",
   "metadata": {},
   "outputs": [
    {
     "data": {
      "text/html": [
       "<div>\n",
       "<style scoped>\n",
       "    .dataframe tbody tr th:only-of-type {\n",
       "        vertical-align: middle;\n",
       "    }\n",
       "\n",
       "    .dataframe tbody tr th {\n",
       "        vertical-align: top;\n",
       "    }\n",
       "\n",
       "    .dataframe thead th {\n",
       "        text-align: right;\n",
       "    }\n",
       "</style>\n",
       "<table border=\"1\" class=\"dataframe\">\n",
       "  <thead>\n",
       "    <tr style=\"text-align: right;\">\n",
       "      <th></th>\n",
       "      <th>MachineA</th>\n",
       "      <th>MachineB</th>\n",
       "      <th>MachineC</th>\n",
       "    </tr>\n",
       "  </thead>\n",
       "  <tbody>\n",
       "    <tr>\n",
       "      <th>task1</th>\n",
       "      <td>6.0</td>\n",
       "      <td>8.0</td>\n",
       "      <td>8.0</td>\n",
       "    </tr>\n",
       "    <tr>\n",
       "      <th>task2</th>\n",
       "      <td>3.0</td>\n",
       "      <td>4.0</td>\n",
       "      <td>4.0</td>\n",
       "    </tr>\n",
       "    <tr>\n",
       "      <th>task3</th>\n",
       "      <td>12.0</td>\n",
       "      <td>16.0</td>\n",
       "      <td>16.0</td>\n",
       "    </tr>\n",
       "  </tbody>\n",
       "</table>\n",
       "</div>"
      ],
      "text/plain": [
       "       MachineA  MachineB  MachineC\n",
       "task1       6.0       8.0       8.0\n",
       "task2       3.0       4.0       4.0\n",
       "task3      12.0      16.0      16.0"
      ]
     },
     "execution_count": 2,
     "metadata": {},
     "output_type": "execute_result"
    }
   ],
   "source": [
    "wsp.workflow.cost_matrix\n"
   ]
  },
  {
   "cell_type": "markdown",
   "id": "923ed19b-7cd3-468c-b3cc-45b29fb0dd10",
   "metadata": {},
   "source": [
    "Uwaga: tutaj tak naprawdę jest dodana jeszcze jedna maszyna (liczba maszyn musi być 2^n)"
   ]
  },
  {
   "cell_type": "code",
   "execution_count": 3,
   "id": "2ed4a92c",
   "metadata": {},
   "outputs": [
    {
     "data": {
      "text/html": [
       "<div>\n",
       "<style scoped>\n",
       "    .dataframe tbody tr th:only-of-type {\n",
       "        vertical-align: middle;\n",
       "    }\n",
       "\n",
       "    .dataframe tbody tr th {\n",
       "        vertical-align: top;\n",
       "    }\n",
       "\n",
       "    .dataframe thead th {\n",
       "        text-align: right;\n",
       "    }\n",
       "</style>\n",
       "<table border=\"1\" class=\"dataframe\">\n",
       "  <thead>\n",
       "    <tr style=\"text-align: right;\">\n",
       "      <th></th>\n",
       "      <th>MachineA</th>\n",
       "      <th>MachineB</th>\n",
       "      <th>MachineC</th>\n",
       "    </tr>\n",
       "  </thead>\n",
       "  <tbody>\n",
       "    <tr>\n",
       "      <th>task1</th>\n",
       "      <td>6.0</td>\n",
       "      <td>2.0</td>\n",
       "      <td>4.0</td>\n",
       "    </tr>\n",
       "    <tr>\n",
       "      <th>task2</th>\n",
       "      <td>3.0</td>\n",
       "      <td>1.0</td>\n",
       "      <td>2.0</td>\n",
       "    </tr>\n",
       "    <tr>\n",
       "      <th>task3</th>\n",
       "      <td>12.0</td>\n",
       "      <td>4.0</td>\n",
       "      <td>8.0</td>\n",
       "    </tr>\n",
       "  </tbody>\n",
       "</table>\n",
       "</div>"
      ],
      "text/plain": [
       "       MachineA  MachineB  MachineC\n",
       "task1       6.0       2.0       4.0\n",
       "task2       3.0       1.0       2.0\n",
       "task3      12.0       4.0       8.0"
      ]
     },
     "execution_count": 3,
     "metadata": {},
     "output_type": "execute_result"
    }
   ],
   "source": [
    "wsp.workflow.time_matrix\n"
   ]
  },
  {
   "cell_type": "markdown",
   "id": "627053d2",
   "metadata": {},
   "source": [
    "Below is the list of the hyperparameters (weights) that can be changed.  I assumed that the weights hyper_b, hyper_c, hyper_d can be the same, since the constraint they represent has a very similar form."
   ]
  },
  {
   "cell_type": "code",
   "execution_count": 4,
   "id": "3ef3d11e-e0d7-4c76-95da-bfda23fa4561",
   "metadata": {},
   "outputs": [],
   "source": [
    "hyper_params = {'cost_function_weight': 1, # weight for: cost function\n",
    "               'deadline_linear_form_weight': -2, # weight for: deadline constraint - linear form (-- this is from the unbalanced penalization approach)\n",
    "                'deadline_quadratic_form_weight': 2} # weight for: deadline constraint - quadratic form\n"
   ]
  },
  {
   "cell_type": "markdown",
   "id": "8a03a332-113a-433f-ad5d-24e51344a1ac",
   "metadata": {},
   "source": [
    " DO ZMIANY: generacja tych wzorów z WFCommons"
   ]
  },
  {
   "cell_type": "code",
   "execution_count": 5,
   "id": "d68cd9ae",
   "metadata": {},
   "outputs": [],
   "source": [
    "import numpy as np\n",
    "import sympy\n",
    "from sympy.core.expr import Expr\n",
    "\n",
    "from QHyper.problems.base import Problem\n",
    "from QHyper.util import Expression\n",
    "\n",
    "\n",
    "class SimpleWorkflowProblem(Problem):\n",
    "\n",
    "\n",
    "    def __init__(self) -> None:\n",
    "        #uwaga: to jest na sztywno\n",
    "        num_of_qubits = 6 #wsp.workflow.cost_matrix.shape[0] * wsp.workflow.cost_matrix.shape[1]\n",
    "        self.variables = sympy.symbols(' '.join([f'x{i}' for i in range(num_of_qubits)]))\n",
    "        self._set_objective_function()\n",
    "        self._set_constraints()\n",
    "\n",
    "    def _set_objective_function(self) -> None:\n",
    "\n",
    "        C_f = (6.0*(1-self.variables[0])*(1-self.variables[1])\n",
    "        + 8.0*(1-self.variables[0])*(self.variables[1])\n",
    "        + 8.0*(self.variables[0])*(1-self.variables[1])\n",
    "        + 2.0*(self.variables[0])*(self.variables[1])\n",
    "        + 3.0*(1-self.variables[2])*(1-self.variables[3])\n",
    "        + 4.0*(1-self.variables[2])*(self.variables[3])\n",
    "        + 4.0*(self.variables[2])*(1-self.variables[3])\n",
    "        + 1.0*(self.variables[2])*(self.variables[3])\n",
    "        + 12.0*(1-self.variables[4])*(1-self.variables[5])\n",
    "        + 16.0*(1-self.variables[4])*(self.variables[5])\n",
    "        + 16.0*(self.variables[4])*(1-self.variables[5])\n",
    "        + 4.0*(self.variables[4])*(self.variables[5])  )\n",
    "\n",
    "        self.deadline_aux=(6.0*(1-self.variables[0])*(1-self.variables[1])\n",
    "       + 2.0*(1-self.variables[0])*(self.variables[1])\n",
    "        + 4.0*(self.variables[0])*(1-self.variables[1])\n",
    "        + 16.0*(self.variables[0])*(self.variables[1])\n",
    "        + 3.0*(1-self.variables[2])*(1-self.variables[3])\n",
    "        + 1.0*(1-self.variables[2])*(self.variables[3])\n",
    "        + 2.0*(self.variables[2])*(1-self.variables[3])\n",
    "        + 8.0*(self.variables[2])*(self.variables[3])\n",
    "        + 12.0*(1-self.variables[4])*(1-self.variables[5])\n",
    "        + 4.0*(1-self.variables[4])*(self.variables[5])\n",
    "        + 8.0*(self.variables[4])*(1-self.variables[5])\n",
    "        + 32.0*(self.variables[4])*(self.variables[5])  )\n",
    "\n",
    "        K_f4_linear = deadline - self.deadline_aux\n",
    "        K_f4_squared=K_f4_linear**2\n",
    "        K_f4_squared1=sympy.expand(K_f4_squared)\n",
    "\n",
    "       # print(K_f4_squared1, \"\\n\\n\")\n",
    "\n",
    "        for i in range(6):\n",
    "            K_f4_squared1=K_f4_squared1.subs(self.variables[i]**2, self.variables[i])\n",
    "        #print(K_f4_squared1,\"\\n\\n\")\n",
    "\n",
    "       # print(K_f4_squared1)\n",
    "        self.objective_function = (Expression(hyper_params['cost_function_weight'] * C_f\n",
    "                                              + hyper_params['deadline_linear_form_weight'] *  K_f4_linear\n",
    "                                   + hyper_params['deadline_quadratic_form_weight'] * K_f4_linear**2))\n",
    "\n",
    "    def _set_constraints(self):\n",
    "       # print(self.deadline_aux)\n",
    "\n",
    "\n",
    "\n",
    "\n",
    "        self.constraints = []\n",
    "\n",
    "    def get_score(self, result, penalty=0):\n",
    "\n",
    "        x = [int(val) for val in result]\n",
    "\n",
    "        if (6.0*(1.0-x[0])*(1-x[1])\n",
    "        + 2.0*(1.0-x[0])*(x[1])\n",
    "        + 4.0*(x[0])*(1.0-x[1])\n",
    "        + 16.0*(x[0])*(x[1])\n",
    "        + 3.0*(1.0-x[2])*(1.0-x[3])\n",
    "        + 1.0*(1.0-x[2])*(x[3])\n",
    "        + 2.0*(x[2])*(1.0-x[3])\n",
    "        + 8.0*(x[2])*(x[3])\n",
    "        + 12.0*(1.0-x[4])*(1.0-x[5])\n",
    "        + 4.0*(1.0-x[4])*(x[5])\n",
    "        + 8.0*(x[4])*(1.0-x[5])\n",
    "        + 32.0*(x[4])*(x[5]) <=13 ):\n",
    "\n",
    "            return (6.0*(1.0-x[0])*(1.0-x[1])\n",
    "        + 8.0*(1.0-x[0])*(x[1])\n",
    "        + 8.0*(x[0])*(1.0-x[1])\n",
    "        + 2.0*(x[0])*(x[1])\n",
    "        + 3.0*(1.0-x[2])*(1.0-x[3])\n",
    "        + 4.0*(1.0-x[2])*(x[3])\n",
    "        + 4.0*(x[2])*(1.0-x[3])\n",
    "        + 1.0*(x[2])*(x[3])\n",
    "        + 12.0*(1.0-x[4])*(1.0-x[5])\n",
    "        + 16.0*(1.0-x[4])*(x[5])\n",
    "        + 16.0*(x[4])*(1.0-x[5])\n",
    "        + 4.0*(x[4])*(x[5]) )\n",
    "\n",
    "        return penalty\n"
   ]
  },
  {
   "cell_type": "code",
   "execution_count": 6,
   "id": "998e39fa",
   "metadata": {},
   "outputs": [],
   "source": [
    "problem = SimpleWorkflowProblem()\n"
   ]
  },
  {
   "cell_type": "code",
   "execution_count": 7,
   "id": "b914cd22",
   "metadata": {},
   "outputs": [
    {
     "name": "stdout",
     "output_type": "stream",
     "text": [
      "Variables used to describe objective function and constraints: (x0, x1, x2, x3, x4, x5)\n",
      "Objective function: {('x0', 'x0', 'x1', 'x1'): 512.0, ('x0', 'x0', 'x1'): -128.0, ('x0', 'x0'): 8.0, ('x0', 'x1', 'x1'): -256.0, ('x0', 'x1', 'x2', 'x3'): 512.0, ('x0', 'x1', 'x2'): -64.0, ('x0', 'x1', 'x3'): -128.0, ('x0', 'x1', 'x4', 'x5'): 2048.0, ('x0', 'x1', 'x4'): -256.0, ('x0', 'x1', 'x5'): -512.0, ('x0', 'x1'): 568.0, ('x0', 'x2', 'x3'): -64.0, ('x0', 'x2'): 8.0, ('x0', 'x3'): 16.0, ('x0', 'x4', 'x5'): -256.0, ('x0', 'x4'): 32.0, ('x0', 'x5'): 64.0, ('x0',): -66.0, ('x1', 'x1'): 32.0, ('x1', 'x2', 'x3'): -128.0, ('x1', 'x2'): 16.0, ('x1', 'x3'): 32.0, ('x1', 'x4', 'x5'): -512.0, ('x1', 'x4'): 64.0, ('x1', 'x5'): 128.0, ('x1',): -134.0, ('x2', 'x2', 'x3', 'x3'): 128.0, ('x2', 'x2', 'x3'): -32.0, ('x2', 'x2'): 2.0, ('x2', 'x3', 'x3'): -64.0, ('x2', 'x3', 'x4', 'x5'): 1024.0, ('x2', 'x3', 'x4'): -128.0, ('x2', 'x3', 'x5'): -256.0, ('x2', 'x3'): 276.0, ('x2', 'x4', 'x5'): -128.0, ('x2', 'x4'): 16.0, ('x2', 'x5'): 32.0, ('x2',): -33.0, ('x3', 'x3'): 8.0, ('x3', 'x4', 'x5'): -256.0, ('x3', 'x4'): 32.0, ('x3', 'x5'): 64.0, ('x3',): -67.0, ('x4', 'x4', 'x5', 'x5'): 2048.0, ('x4', 'x4', 'x5'): -512.0, ('x4', 'x4'): 32.0, ('x4', 'x5', 'x5'): -1024.0, ('x4', 'x5'): 1200.0, ('x4',): -132.0, ('x5', 'x5'): 128.0, ('x5',): -268.0, (): 165.0}\n",
      "Constraints (RHS == 0):\n"
     ]
    }
   ],
   "source": [
    "print(f\"Variables used to describe objective function\"\n",
    "      f\" and constraints: {problem.variables}\")\n",
    "print(f\"Objective function: {problem.objective_function}\")\n",
    "print(\"Constraints (RHS == 0):\")\n",
    "for constraint in problem.constraints:\n",
    "    print(f\"    {constraint}\")\n"
   ]
  },
  {
   "cell_type": "markdown",
   "id": "9852e256",
   "metadata": {},
   "source": [
    "# 3 Using QHyper"
   ]
  },
  {
   "cell_type": "markdown",
   "id": "a7d1d81d",
   "metadata": {},
   "source": [
    "Do zmiany - konfiguracja wag"
   ]
  },
  {
   "cell_type": "code",
   "execution_count": 8,
   "id": "f9d96cf4",
   "metadata": {},
   "outputs": [],
   "source": [
    "params_config = {\n",
    "       'angles': [[0.1e-13]*6, [np.pi/2]*6], # QAOA angles - first we have gammas (for the cost Hamiltonian), then we have betas (for the mixer)\n",
    "    #'angles': [[3.23810485e-04,  3.89068182e-04,  4.08362541e-04,  2.18136406e-04,\n",
    "   #3.91692476e-04,  3.01205096e-04],\n",
    " #[-2.51645530e+02, -1.22816763e+02, -1.20555243e+02, -9.45352537e+01,\n",
    "  #-9.88528753e+01, -8.19648493e+01]] , \n",
    "    'hyper_args': [1, # do not change - this should be the weight for the 'cost function' but since in our cost function\n",
    "                          # we also have the deadline in the linear form (as of now it needs to be implemented this way due to QHyper limitations)\n",
    "                          # the weight for the actual cost function is set there. THIS WILL NOT WORK WELL WITH HYPER-QAOA.\n",
    "\n",
    "                       ],\n",
    "    }\n"
   ]
  },
  {
   "cell_type": "code",
   "execution_count": 9,
   "id": "8dbdf752",
   "metadata": {},
   "outputs": [],
   "source": [
    "# Create a VQA instance with QAOA as PQC and scipy optimizer\n",
    "# This can be done in two various way\n",
    "# 1. Providing dict with config (usefull to save experiment confing in e.g JSON)\n",
    "# DO ZMIANY sqaoa -> qaoa (backend= \"default.qubit\") oraz QNG optimiser (krok 0.0001) 50 krokow\n",
    "from QHyper.solvers import VQA\n",
    "\n",
    "solver_config = {\n",
    "    \"pqc\": {\n",
    "        \"type\": \"qml_qaoa\",\n",
    "        \"layers\": 6,\n",
    "        \"optimizer\": \"qng\",\n",
    "        \"optimizer_args\": {\n",
    "            \"stepsize\": 0.0001,\n",
    "            \"steps\": 10,\n",
    "            \"verbose\": True,\n",
    "        },\n",
    "        \"backend\": \"default.qubit\",\n",
    "    },\n",
    "    \"params_inits\": params_config\n",
    "}\n",
    "vqa = VQA.from_config(problem, config=solver_config)\n"
   ]
  },
  {
   "cell_type": "code",
   "execution_count": 10,
   "id": "3b72c785",
   "metadata": {},
   "outputs": [
    {
     "name": "stdout",
     "output_type": "stream",
     "text": [
      "Step 1/10: 612.9999999999897\n",
      "Step 2/10: 612.9999999919736\n",
      "Step 3/10: 500.2934557003054\n",
      "Step 4/10: 208.1912732111584\n",
      "Step 5/10: 177.73599343318492\n",
      "Step 6/10: 171.38603295243513\n",
      "Step 7/10: 166.1401849860502\n",
      "Step 8/10: 159.34381784367747\n",
      "Step 9/10: 151.1541278057249\n",
      "Step 10/10: 143.0212591340686\n",
      "[[ 1.51545611e-04  3.63911997e-04  2.17403290e-04  2.04811744e-05\n",
      "   9.70601370e-05  2.38966920e-04]\n",
      " [-2.51599129e+02 -1.22776394e+02 -1.20593112e+02 -9.45923852e+01\n",
      "  -9.88407243e+01 -8.19850018e+01]]\n",
      "[0.01362292 0.02282725 0.02379919 0.00060116 0.0178262  0.02630792\n",
      " 0.02764738 0.00066213 0.01795055 0.02604592 0.02680608 0.00035973\n",
      " 0.01236879 0.01927429 0.01760619 0.00029858 0.02132406 0.02789721\n",
      " 0.02924239 0.00078146 0.02657823 0.03063626 0.03228726 0.00089931\n",
      " 0.02654277 0.03007983 0.03107852 0.00051815 0.01830386 0.02245455\n",
      " 0.02066167 0.00021463 0.02161668 0.02748242 0.027739   0.00021348\n",
      " 0.02684014 0.02995823 0.03046919 0.00029593 0.02647243 0.02910866\n",
      " 0.02900426 0.00013348 0.01721674 0.02091735 0.01839825 0.00029999\n",
      " 0.00816955 0.01277425 0.00962779 0.00147692 0.00993848 0.01388216\n",
      " 0.01047841 0.00160241 0.00916076 0.01296175 0.0094768  0.00155616\n",
      " 0.00491195 0.00816519 0.00524159 0.00090513]\n"
     ]
    }
   ],
   "source": [
    "solver_results = vqa.solve()\n"
   ]
  },
  {
   "cell_type": "code",
   "execution_count": 18,
   "id": "ec96ded3",
   "metadata": {},
   "outputs": [
    {
     "name": "stdout",
     "output_type": "stream",
     "text": [
      "Best params: {'angles': tensor([[ 3.23810485e-04,  3.89068182e-04,  4.08362541e-04,\n",
      "          2.18136406e-04,  3.91692476e-04,  3.01205096e-04],\n",
      "        [-2.51645530e+02, -1.22816763e+02, -1.20555243e+02,\n",
      "         -9.45352537e+01, -9.88528753e+01, -8.19648493e+01]], requires_grad=True), 'hyper_args': tensor([1], requires_grad=True)}\n"
     ]
    }
   ],
   "source": [
    "print(f\"Best params: {solver_results.params}\")\n"
   ]
  },
  {
   "cell_type": "code",
   "execution_count": 19,
   "id": "b47dd5ee",
   "metadata": {},
   "outputs": [
    {
     "name": "stdout",
     "output_type": "stream",
     "text": [
      "Evaluation:\n",
      "13.401237505464907\n",
      "Sort results:\n",
      "Result: 010110, Prob: 0.045815, Evaluation: 28.0\n",
      "Result: 010101, Prob: 0.044811, Evaluation: 28.0\n",
      "Result: 011001, Prob: 0.04398, Evaluation: 28.0\n",
      "Result: 011010, Prob: 0.043734, Evaluation: 28.0\n",
      "Result: 100101, Prob: 0.04348, Evaluation: 28.0\n",
      "Result: 100110, Prob: 0.042411, Evaluation: 28.0\n",
      "Result: 101001, Prob: 0.042035, Evaluation: 28.0\n",
      "Result: 101010, Prob: 0.03978, Evaluation: 0\n",
      "Result: 010010, Prob: 0.038648, Evaluation: 27.0\n",
      "Result: 100010, Prob: 0.037264, Evaluation: 0\n",
      "Result: 100001, Prob: 0.036147, Evaluation: 27.0\n",
      "Result: 010001, Prob: 0.035911, Evaluation: 27.0\n",
      "Result: 000110, Prob: 0.031156, Evaluation: 0\n",
      "Result: 001010, Prob: 0.03105, Evaluation: 0\n",
      "Result: 011101, Prob: 0.030247, Evaluation: 0\n",
      "Result: 101101, Prob: 0.028066, Evaluation: 0\n",
      "Result: 001001, Prob: 0.027694, Evaluation: 26.0\n",
      "Result: 011110, Prob: 0.02741, Evaluation: 0\n",
      "Result: 000101, Prob: 0.027082, Evaluation: 26.0\n",
      "Result: 101110, Prob: 0.024064, Evaluation: 0\n",
      "Result: 000010, Prob: 0.02024, Evaluation: 0\n",
      "Result: 101000, Prob: 0.019099, Evaluation: 0\n",
      "Result: 100100, Prob: 0.018038, Evaluation: 0\n",
      "Result: 001110, Prob: 0.017824, Evaluation: 0\n",
      "Result: 001101, Prob: 0.017447, Evaluation: 0\n",
      "Result: 011000, Prob: 0.016698, Evaluation: 0\n",
      "Result: 000001, Prob: 0.016503, Evaluation: 25.0\n",
      "Result: 110101, Prob: 0.016309, Evaluation: 0\n",
      "Result: 010100, Prob: 0.015458, Evaluation: 0\n",
      "Result: 111001, Prob: 0.015081, Evaluation: 0\n",
      "Result: 110110, Prob: 0.012371, Evaluation: 0\n",
      "Result: 110001, Prob: 0.01237, Evaluation: 0\n",
      "Result: 111010, Prob: 0.011035, Evaluation: 0\n",
      "Result: 110010, Prob: 0.0098568, Evaluation: 0\n",
      "Result: 101100, Prob: 0.0094939, Evaluation: 0\n",
      "Result: 011100, Prob: 0.0086292, Evaluation: 0\n",
      "Result: 100000, Prob: 0.0076224, Evaluation: 0\n",
      "Result: 111101, Prob: 0.0072035, Evaluation: 0\n",
      "Result: 010000, Prob: 0.006085, Evaluation: 0\n",
      "Result: 111110, Prob: 0.0046506, Evaluation: 0\n",
      "Result: 111000, Prob: 0.0035236, Evaluation: 0\n",
      "Result: 110100, Prob: 0.0035071, Evaluation: 0\n",
      "Result: 001000, Prob: 0.0023465, Evaluation: 0\n",
      "Result: 000100, Prob: 0.0020414, Evaluation: 0\n",
      "Result: 111100, Prob: 0.0013097, Evaluation: 0\n",
      "Result: 110000, Prob: 0.0012275, Evaluation: 0\n",
      "Result: 001100, Prob: 0.00095993, Evaluation: 0\n",
      "Result: 000000, Prob: 0.00071662, Evaluation: 0\n",
      "Result: 111111, Prob: 0.00029759, Evaluation: 0\n",
      "Result: 101011, Prob: 0.00020906, Evaluation: 0\n",
      "Result: 001011, Prob: 0.00013558, Evaluation: 0\n",
      "Result: 100111, Prob: 0.00013157, Evaluation: 0\n",
      "Result: 101111, Prob: 0.00012104, Evaluation: 0\n",
      "Result: 100011, Prob: 0.00011736, Evaluation: 0\n",
      "Result: 000111, Prob: 0.00011587, Evaluation: 0\n",
      "Result: 001111, Prob: 0.00010185, Evaluation: 0\n",
      "Result: 000011, Prob: 9.7575e-05, Evaluation: 0\n",
      "Result: 010011, Prob: 6.2059e-05, Evaluation: 0\n",
      "Result: 011111, Prob: 5.8283e-05, Evaluation: 0\n",
      "Result: 010111, Prob: 5.3304e-05, Evaluation: 0\n",
      "Result: 011011, Prob: 4.2768e-05, Evaluation: 0\n",
      "Result: 110011, Prob: 1.9204e-05, Evaluation: 0\n",
      "Result: 110111, Prob: 5.8299e-06, Evaluation: 0\n",
      "Result: 111011, Prob: 2.1626e-06, Evaluation: 0\n"
     ]
    }
   ],
   "source": [
    "from QHyper.util import (\n",
    "    weighted_avg_evaluation, sort_solver_results, add_evaluation_to_results)\n",
    "\n",
    "# Evaluate results with weighted average evaluation\n",
    "print(\"Evaluation:\")\n",
    "print(weighted_avg_evaluation(\n",
    "    solver_results.results_probabilities, problem.get_score,\n",
    "    penalty=0, limit_results=64, normalize=True\n",
    "))\n",
    "print(\"Sort results:\")\n",
    "sorted_results = sort_solver_results(\n",
    "    solver_results.results_probabilities, limit_results=64)\n",
    "\n",
    "# Add evaluation to results\n",
    "results_with_evaluation = add_evaluation_to_results(\n",
    "    sorted_results, problem.get_score, penalty=0)\n",
    "\n",
    "for result, (probability, evaluation) in results_with_evaluation.items():\n",
    "    print(f\"Result: {result}, \"\n",
    "          f\"Prob: {probability:.5}, \"\n",
    "          f\"Evaluation: {evaluation}\")\n"
   ]
  },
  {
   "cell_type": "code",
   "execution_count": 13,
   "id": "554606e3",
   "metadata": {},
   "outputs": [
    {
     "data": {
      "text/plain": [
       "<Axes: xlabel='index', ylabel='value'>"
      ]
     },
     "execution_count": 13,
     "metadata": {},
     "output_type": "execute_result"
    },
    {
     "data": {
      "image/png": "[encoded data removed]",
      "text/plain": [
       "<Figure size 640x480 with 1 Axes>"
      ]
     },
     "metadata": {},
     "output_type": "display_data"
    }
   ],
   "source": [
    "import pandas as pd\n",
    "\n",
    "pd.DataFrame(solver_results.history[0]).reset_index().plot(x='index',y='value', kind='scatter')\n"
   ]
  },
  {
   "cell_type": "code",
   "execution_count": 20,
   "id": "bcbf9e37-3def-4c7e-b955-cb811b09d344",
   "metadata": {},
   "outputs": [],
   "source": [
    "from QHyper.solvers import VQA\n",
    "tester_config = {\n",
    "    'pqc': {\n",
    "        'type': 'wfqaoa',\n",
    "        'layers': 6,\n",
    "    }\n",
    "}\n",
    "\n",
    "tester = VQA.from_config(problem, config=tester_config)"
   ]
  },
  {
   "cell_type": "code",
   "execution_count": 15,
   "id": "8c67326c-304c-4459-bf61-0ff5faefcb41",
   "metadata": {},
   "outputs": [],
   "source": [
    "bp={'angles': ([[ 3.23810485e-04,  3.89068182e-04,  4.08362541e-04,\n",
    "          2.18136406e-04,  3.91692476e-04,  3.01205096e-04],\n",
    "        [-2.51645530e+02, -1.22816763e+02, -1.20555243e+02,\n",
    "         -9.45352537e+01, -9.88528753e+01, -8.19648493e+01]]), 'hyper_args': [1]}\n",
    "#bp={'angles':([[0.1e-13]*6, [np.pi/2]*6]), 'hyper_args': [1]}"
   ]
  },
  {
   "cell_type": "code",
   "execution_count": 16,
   "id": "bdf2cb5b-4b8a-4489-833e-4bc5adb48dd1",
   "metadata": {},
   "outputs": [
    {
     "name": "stdout",
     "output_type": "stream",
     "text": [
      "[[ 3.23810485e-04  3.89068182e-04  4.08362541e-04  2.18136406e-04\n",
      "   3.91692476e-04  3.01205096e-04]\n",
      " [-2.51645530e+02 -1.22816763e+02 -1.20555243e+02 -9.45352537e+01\n",
      "  -9.88528753e+01 -8.19648493e+01]]\n",
      "[7.16616139e-04 1.65026622e-02 2.02396594e-02 9.75745992e-05\n",
      " 2.04137350e-03 2.70820123e-02 3.11562658e-02 1.15866309e-04\n",
      " 2.34652941e-03 2.76943181e-02 3.10495202e-02 1.35582111e-04\n",
      " 9.59928472e-04 1.74465300e-02 1.78238224e-02 1.01846133e-04\n",
      " 6.08495685e-03 3.59113776e-02 3.86476428e-02 6.20585198e-05\n",
      " 1.54580605e-02 4.48107079e-02 4.58149497e-02 5.33037023e-05\n",
      " 1.66982433e-02 4.39798692e-02 4.37336067e-02 4.27677439e-05\n",
      " 8.62920985e-03 3.02467906e-02 2.74098227e-02 5.82827667e-05\n",
      " 7.62238652e-03 3.61468669e-02 3.72638489e-02 1.17363540e-04\n",
      " 1.80378358e-02 4.34797494e-02 4.24109178e-02 1.31573914e-04\n",
      " 1.90989041e-02 4.20354637e-02 3.97796734e-02 2.09062949e-04\n",
      " 9.49391732e-03 2.80660534e-02 2.40637082e-02 1.21043416e-04\n",
      " 1.22752830e-03 1.23704718e-02 9.85676422e-03 1.92038736e-05\n",
      " 3.50707218e-03 1.63085305e-02 1.23712327e-02 5.82987841e-06\n",
      " 3.52364597e-03 1.50810539e-02 1.10349722e-02 2.16261809e-06\n",
      " 1.30970475e-03 7.20351086e-03 4.65059669e-03 2.97592963e-04]\n"
     ]
    }
   ],
   "source": [
    "solver_results=tester.solve(bp)"
   ]
  },
  {
   "cell_type": "code",
   "execution_count": 17,
   "id": "87ef87a1",
   "metadata": {},
   "outputs": [],
   "source": [
    "#print(solver_results.history[0])"
   ]
  },
  {
   "cell_type": "code",
   "execution_count": null,
   "id": "ccf87a8d-e273-403e-9700-2be10ed7854b",
   "metadata": {},
   "outputs": [],
   "source": []
  },
  {
   "cell_type": "code",
   "execution_count": null,
   "id": "bf440e5c-645b-4571-9345-5c59ece83836",
   "metadata": {},
   "outputs": [],
   "source": []
  },
  {
   "cell_type": "code",
   "execution_count": null,
   "id": "22137cc5-5646-4645-b880-fc0e399af895",
   "metadata": {},
   "outputs": [],
   "source": []
  }
 ],
 "metadata": {
  "celltoolbar": "Raw Cell Format",
  "kernelspec": {
   "display_name": "Python 3 (ipykernel)",
   "language": "python",
   "name": "python3"
  },
  "language_info": {
   "codemirror_mode": {
    "name": "ipython",
    "version": 3
   },
   "file_extension": ".py",
   "mimetype": "text/x-python",
   "name": "python",
   "nbconvert_exporter": "python",
   "pygments_lexer": "ipython3",
   "version": "3.10.12"
  }
 },
 "nbformat": 4,
 "nbformat_minor": 5
}
