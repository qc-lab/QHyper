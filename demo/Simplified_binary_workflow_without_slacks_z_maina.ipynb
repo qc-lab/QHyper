{
 "cells": [
  {
   "cell_type": "markdown",
   "id": "89685faf",
   "metadata": {},
   "source": [
    "### Demo na konferencję EuroHPC (case z kodowaniem binarnym i z QAOA) - draft\n",
    "DO ZMIANY: opis \n",
    "We will focus on the following workflow instance (for now, in the simplified problem, we will not use the Workflow or WorkflowSchedulingProblem classes, because we want to test the Unbalanced Penalization method https://arxiv.org/pdf/2211.13914.pdf), which is not included in QHyper. But I will leave it here just for reference (especially for observation of what data is in the time and cost matrices)."
   ]
  },
  {
   "cell_type": "code",
   "execution_count": 1,
   "id": "5d1c465f",
   "metadata": {},
   "outputs": [],
   "source": [
    "import sys\n",
    "sys.path.append(\"..\")\n",
    "from QHyper.problems.workflow_scheduling import (\n",
    "    Workflow,\n",
    "    WorkflowSchedulingProblem,\n",
    ")\n",
    "\n",
    "tasks_file =  \"workflows_data/workflows/3_tasks_3_machines_1_path.json\"\n",
    "machines_file = \"workflows_data/machines/machines_for_3_tasks_3_machines_1_path.json\"\n",
    "deadline = 13\n",
    "\n",
    "workflow = Workflow(tasks_file, machines_file, deadline)\n",
    "wsp = WorkflowSchedulingProblem(workflow)\n"
   ]
  },
  {
   "cell_type": "code",
   "execution_count": 2,
   "id": "dc65723e",
   "metadata": {},
   "outputs": [
    {
     "data": {
      "text/html": [
       "<div>\n",
       "<style scoped>\n",
       "    .dataframe tbody tr th:only-of-type {\n",
       "        vertical-align: middle;\n",
       "    }\n",
       "\n",
       "    .dataframe tbody tr th {\n",
       "        vertical-align: top;\n",
       "    }\n",
       "\n",
       "    .dataframe thead th {\n",
       "        text-align: right;\n",
       "    }\n",
       "</style>\n",
       "<table border=\"1\" class=\"dataframe\">\n",
       "  <thead>\n",
       "    <tr style=\"text-align: right;\">\n",
       "      <th></th>\n",
       "      <th>MachineA</th>\n",
       "      <th>MachineB</th>\n",
       "      <th>MachineC</th>\n",
       "    </tr>\n",
       "  </thead>\n",
       "  <tbody>\n",
       "    <tr>\n",
       "      <th>task1</th>\n",
       "      <td>6.0</td>\n",
       "      <td>8.0</td>\n",
       "      <td>8.0</td>\n",
       "    </tr>\n",
       "    <tr>\n",
       "      <th>task2</th>\n",
       "      <td>3.0</td>\n",
       "      <td>4.0</td>\n",
       "      <td>4.0</td>\n",
       "    </tr>\n",
       "    <tr>\n",
       "      <th>task3</th>\n",
       "      <td>12.0</td>\n",
       "      <td>16.0</td>\n",
       "      <td>16.0</td>\n",
       "    </tr>\n",
       "  </tbody>\n",
       "</table>\n",
       "</div>"
      ],
      "text/plain": [
       "       MachineA  MachineB  MachineC\n",
       "task1       6.0       8.0       8.0\n",
       "task2       3.0       4.0       4.0\n",
       "task3      12.0      16.0      16.0"
      ]
     },
     "execution_count": 2,
     "metadata": {},
     "output_type": "execute_result"
    }
   ],
   "source": [
    "wsp.workflow.cost_matrix\n"
   ]
  },
  {
   "cell_type": "markdown",
   "id": "923ed19b-7cd3-468c-b3cc-45b29fb0dd10",
   "metadata": {},
   "source": [
    "Uwaga: tutaj tak naprawdę jest dodana jeszcze jedna maszyna (liczba maszyn musi być 2^n)"
   ]
  },
  {
   "cell_type": "code",
   "execution_count": 3,
   "id": "2ed4a92c",
   "metadata": {},
   "outputs": [
    {
     "data": {
      "text/html": [
       "<div>\n",
       "<style scoped>\n",
       "    .dataframe tbody tr th:only-of-type {\n",
       "        vertical-align: middle;\n",
       "    }\n",
       "\n",
       "    .dataframe tbody tr th {\n",
       "        vertical-align: top;\n",
       "    }\n",
       "\n",
       "    .dataframe thead th {\n",
       "        text-align: right;\n",
       "    }\n",
       "</style>\n",
       "<table border=\"1\" class=\"dataframe\">\n",
       "  <thead>\n",
       "    <tr style=\"text-align: right;\">\n",
       "      <th></th>\n",
       "      <th>MachineA</th>\n",
       "      <th>MachineB</th>\n",
       "      <th>MachineC</th>\n",
       "    </tr>\n",
       "  </thead>\n",
       "  <tbody>\n",
       "    <tr>\n",
       "      <th>task1</th>\n",
       "      <td>6.0</td>\n",
       "      <td>2.0</td>\n",
       "      <td>4.0</td>\n",
       "    </tr>\n",
       "    <tr>\n",
       "      <th>task2</th>\n",
       "      <td>3.0</td>\n",
       "      <td>1.0</td>\n",
       "      <td>2.0</td>\n",
       "    </tr>\n",
       "    <tr>\n",
       "      <th>task3</th>\n",
       "      <td>12.0</td>\n",
       "      <td>4.0</td>\n",
       "      <td>8.0</td>\n",
       "    </tr>\n",
       "  </tbody>\n",
       "</table>\n",
       "</div>"
      ],
      "text/plain": [
       "       MachineA  MachineB  MachineC\n",
       "task1       6.0       2.0       4.0\n",
       "task2       3.0       1.0       2.0\n",
       "task3      12.0       4.0       8.0"
      ]
     },
     "execution_count": 3,
     "metadata": {},
     "output_type": "execute_result"
    }
   ],
   "source": [
    "wsp.workflow.time_matrix\n"
   ]
  },
  {
   "cell_type": "markdown",
   "id": "627053d2",
   "metadata": {},
   "source": [
    "Below is the list of the hyperparameters (weights) that can be changed.  I assumed that the weights hyper_b, hyper_c, hyper_d can be the same, since the constraint they represent has a very similar form."
   ]
  },
  {
   "cell_type": "code",
   "execution_count": 4,
   "id": "3ef3d11e-e0d7-4c76-95da-bfda23fa4561",
   "metadata": {},
   "outputs": [],
   "source": [
    "hyper_params = {'cost_function_weight': 1, # weight for: cost function\n",
    "               'deadline_linear_form_weight': -2, # weight for: deadline constraint - linear form (-- this is from the unbalanced penalization approach)\n",
    "                'deadline_quadratic_form_weight': 2} # weight for: deadline constraint - quadratic form\n"
   ]
  },
  {
   "cell_type": "markdown",
   "id": "8a03a332-113a-433f-ad5d-24e51344a1ac",
   "metadata": {},
   "source": [
    " DO ZMIANY: generacja tych wzorów z WFCommons"
   ]
  },
  {
   "cell_type": "code",
   "execution_count": 5,
   "id": "d68cd9ae",
   "metadata": {},
   "outputs": [],
   "source": [
    "import numpy as np\n",
    "import sympy\n",
    "from sympy.core.expr import Expr\n",
    "\n",
    "from QHyper.problems.base import Problem\n",
    "from QHyper.util import Expression\n",
    "\n",
    "\n",
    "class SimpleWorkflowProblem(Problem):\n",
    "\n",
    "\n",
    "    def __init__(self) -> None:\n",
    "        #uwaga: to jest na sztywno\n",
    "        num_of_qubits = 6 #wsp.workflow.cost_matrix.shape[0] * wsp.workflow.cost_matrix.shape[1]\n",
    "        self.variables = sympy.symbols(' '.join([f'x{i}' for i in range(num_of_qubits)]))\n",
    "        self._set_objective_function()\n",
    "        self._set_constraints()\n",
    "\n",
    "    def _set_objective_function(self) -> None:\n",
    "\n",
    "        C_f = (6.0*(1-self.variables[0])*(1-self.variables[1])\n",
    "        + 8.0*(1-self.variables[0])*(self.variables[1])\n",
    "        + 8.0*(self.variables[0])*(1-self.variables[1])\n",
    "        + 2.0*(self.variables[0])*(self.variables[1])\n",
    "        + 3.0*(1-self.variables[2])*(1-self.variables[3])\n",
    "        + 4.0*(1-self.variables[2])*(self.variables[3])\n",
    "        + 4.0*(self.variables[2])*(1-self.variables[3])\n",
    "        + 1.0*(self.variables[2])*(self.variables[3])\n",
    "        + 12.0*(1-self.variables[4])*(1-self.variables[5])\n",
    "        + 16.0*(1-self.variables[4])*(self.variables[5])\n",
    "        + 16.0*(self.variables[4])*(1-self.variables[5])\n",
    "        + 4.0*(self.variables[4])*(self.variables[5])  )\n",
    "\n",
    "        self.deadline_aux=(6.0*(1-self.variables[0])*(1-self.variables[1])\n",
    "       + 2.0*(1-self.variables[0])*(self.variables[1])\n",
    "        + 4.0*(self.variables[0])*(1-self.variables[1])\n",
    "        + 16.0*(self.variables[0])*(self.variables[1])\n",
    "        + 3.0*(1-self.variables[2])*(1-self.variables[3])\n",
    "        + 1.0*(1-self.variables[2])*(self.variables[3])\n",
    "        + 2.0*(self.variables[2])*(1-self.variables[3])\n",
    "        + 8.0*(self.variables[2])*(self.variables[3])\n",
    "        + 12.0*(1-self.variables[4])*(1-self.variables[5])\n",
    "        + 4.0*(1-self.variables[4])*(self.variables[5])\n",
    "        + 8.0*(self.variables[4])*(1-self.variables[5])\n",
    "        + 32.0*(self.variables[4])*(self.variables[5])  )\n",
    "\n",
    "        K_f4_linear = deadline - self.deadline_aux\n",
    "        K_f4_squared=K_f4_linear**2\n",
    "        K_f4_squared1=sympy.expand(K_f4_squared)\n",
    "\n",
    "       # print(K_f4_squared1, \"\\n\\n\")\n",
    "\n",
    "        for i in range(6):\n",
    "            K_f4_squared1=K_f4_squared1.subs(self.variables[i]**2, self.variables[i])\n",
    "        #print(K_f4_squared1,\"\\n\\n\")\n",
    "\n",
    "       # print(K_f4_squared1)\n",
    "        self.objective_function = (Expression(hyper_params['cost_function_weight'] * C_f\n",
    "                                              + hyper_params['deadline_linear_form_weight'] *  K_f4_linear\n",
    "                                   + hyper_params['deadline_quadratic_form_weight'] * K_f4_linear**2))\n",
    "\n",
    "    def _set_constraints(self):\n",
    "       # print(self.deadline_aux)\n",
    "\n",
    "\n",
    "\n",
    "\n",
    "        self.constraints = []\n",
    "\n",
    "    def get_score(self, result, penalty=0):\n",
    "\n",
    "        x = [int(val) for val in result]\n",
    "\n",
    "        if (6.0*(1.0-x[0])*(1-x[1])\n",
    "        + 2.0*(1.0-x[0])*(x[1])\n",
    "        + 4.0*(x[0])*(1.0-x[1])\n",
    "        + 16.0*(x[0])*(x[1])\n",
    "        + 3.0*(1.0-x[2])*(1.0-x[3])\n",
    "        + 1.0*(1.0-x[2])*(x[3])\n",
    "        + 2.0*(x[2])*(1.0-x[3])\n",
    "        + 8.0*(x[2])*(x[3])\n",
    "        + 12.0*(1.0-x[4])*(1.0-x[5])\n",
    "        + 4.0*(1.0-x[4])*(x[5])\n",
    "        + 8.0*(x[4])*(1.0-x[5])\n",
    "        + 32.0*(x[4])*(x[5]) <=13 ):\n",
    "\n",
    "            return (6.0*(1.0-x[0])*(1.0-x[1])\n",
    "        + 8.0*(1.0-x[0])*(x[1])\n",
    "        + 8.0*(x[0])*(1.0-x[1])\n",
    "        + 2.0*(x[0])*(x[1])\n",
    "        + 3.0*(1.0-x[2])*(1.0-x[3])\n",
    "        + 4.0*(1.0-x[2])*(x[3])\n",
    "        + 4.0*(x[2])*(1.0-x[3])\n",
    "        + 1.0*(x[2])*(x[3])\n",
    "        + 12.0*(1.0-x[4])*(1.0-x[5])\n",
    "        + 16.0*(1.0-x[4])*(x[5])\n",
    "        + 16.0*(x[4])*(1.0-x[5])\n",
    "        + 4.0*(x[4])*(x[5]) )\n",
    "\n",
    "        return penalty\n"
   ]
  },
  {
   "cell_type": "code",
   "execution_count": 6,
   "id": "998e39fa",
   "metadata": {},
   "outputs": [],
   "source": [
    "problem = SimpleWorkflowProblem()\n"
   ]
  },
  {
   "cell_type": "code",
   "execution_count": 7,
   "id": "b914cd22",
   "metadata": {},
   "outputs": [
    {
     "name": "stdout",
     "output_type": "stream",
     "text": [
      "Variables used to describe objective function and constraints: (x0, x1, x2, x3, x4, x5)\n",
      "Objective function: {('x0', 'x0', 'x1', 'x1'): 512.0, ('x0', 'x0', 'x1'): -128.0, ('x0', 'x0'): 8.0, ('x0', 'x1', 'x1'): -256.0, ('x0', 'x1', 'x2', 'x3'): 512.0, ('x0', 'x1', 'x2'): -64.0, ('x0', 'x1', 'x3'): -128.0, ('x0', 'x1', 'x4', 'x5'): 2048.0, ('x0', 'x1', 'x4'): -256.0, ('x0', 'x1', 'x5'): -512.0, ('x0', 'x1'): 568.0, ('x0', 'x2', 'x3'): -64.0, ('x0', 'x2'): 8.0, ('x0', 'x3'): 16.0, ('x0', 'x4', 'x5'): -256.0, ('x0', 'x4'): 32.0, ('x0', 'x5'): 64.0, ('x0',): -66.0, ('x1', 'x1'): 32.0, ('x1', 'x2', 'x3'): -128.0, ('x1', 'x2'): 16.0, ('x1', 'x3'): 32.0, ('x1', 'x4', 'x5'): -512.0, ('x1', 'x4'): 64.0, ('x1', 'x5'): 128.0, ('x1',): -134.0, ('x2', 'x2', 'x3', 'x3'): 128.0, ('x2', 'x2', 'x3'): -32.0, ('x2', 'x2'): 2.0, ('x2', 'x3', 'x3'): -64.0, ('x2', 'x3', 'x4', 'x5'): 1024.0, ('x2', 'x3', 'x4'): -128.0, ('x2', 'x3', 'x5'): -256.0, ('x2', 'x3'): 276.0, ('x2', 'x4', 'x5'): -128.0, ('x2', 'x4'): 16.0, ('x2', 'x5'): 32.0, ('x2',): -33.0, ('x3', 'x3'): 8.0, ('x3', 'x4', 'x5'): -256.0, ('x3', 'x4'): 32.0, ('x3', 'x5'): 64.0, ('x3',): -67.0, ('x4', 'x4', 'x5', 'x5'): 2048.0, ('x4', 'x4', 'x5'): -512.0, ('x4', 'x4'): 32.0, ('x4', 'x5', 'x5'): -1024.0, ('x4', 'x5'): 1200.0, ('x4',): -132.0, ('x5', 'x5'): 128.0, ('x5',): -268.0, (): 165.0}\n",
      "Constraints (RHS == 0):\n"
     ]
    }
   ],
   "source": [
    "print(f\"Variables used to describe objective function\"\n",
    "      f\" and constraints: {problem.variables}\")\n",
    "print(f\"Objective function: {problem.objective_function}\")\n",
    "print(\"Constraints (RHS == 0):\")\n",
    "for constraint in problem.constraints:\n",
    "    print(f\"    {constraint}\")\n"
   ]
  },
  {
   "cell_type": "markdown",
   "id": "9852e256",
   "metadata": {},
   "source": [
    "# 3 Using QHyper"
   ]
  },
  {
   "cell_type": "markdown",
   "id": "a7d1d81d",
   "metadata": {},
   "source": [
    "Do zmiany - konfiguracja wag"
   ]
  },
  {
   "cell_type": "code",
   "execution_count": 8,
   "id": "f9d96cf4",
   "metadata": {},
   "outputs": [],
   "source": [
    "params_config = {\n",
    "        'angles': [[0.1e-13]*6, [np.pi/2]*6], # QAOA angles - first we have gammas (for the cost Hamiltonian), then we have betas (for the mixer)\n",
    "        'hyper_args': [1, # do not change - this should be the weight for the 'cost function' but since in our cost function\n",
    "                          # we also have the deadline in the linear form (as of now it needs to be implemented this way due to QHyper limitations)\n",
    "                          # the weight for the actual cost function is set there. THIS WILL NOT WORK WELL WITH HYPER-QAOA.\n",
    "\n",
    "                       ],\n",
    "    }\n"
   ]
  },
  {
   "cell_type": "code",
   "execution_count": 9,
   "id": "8dbdf752",
   "metadata": {},
   "outputs": [],
   "source": [
    "# Create a VQA instance with QAOA as PQC and scipy optimizer\n",
    "# This can be done in two various way\n",
    "# 1. Providing dict with config (usefull to save experiment confing in e.g JSON)\n",
    "# DO ZMIANY sqaoa -> qaoa (backend= \"default.qubit\") oraz QNG optimiser (krok 0.0001) 50 krokow\n",
    "from QHyper.solvers import VQA\n",
    "\n",
    "solver_config = {\n",
    "    \"pqc\": {\n",
    "        \"type\": \"qml_qaoa\",\n",
    "        \"layers\": 6,\n",
    "        \"optimizer\": \"qng\",\n",
    "        \"optimizer_args\": {\n",
    "            \"stepsize\": 0.00045,\n",
    "            \"steps\": 50,\n",
    "            \"verbose\": True,\n",
    "        },\n",
    "        \"backend\": \"default.qubit\",\n",
    "    },\n",
    "    \"params_inits\": params_config\n",
    "}\n",
    "vqa = VQA.from_config(problem, config=solver_config)\n"
   ]
  },
  {
   "cell_type": "code",
   "execution_count": 10,
   "id": "6691fdd2",
   "metadata": {},
   "outputs": [
    {
     "name": "stdout",
     "output_type": "stream",
     "text": [
      "Step 1/50: 612.9999999999897\n",
      "Step 2/50: 613.0000000321631\n",
      "Step 3/50: 208.66871306840923\n",
      "Step 4/50: 131.8019403370246\n",
      "Step 5/50: 113.4598995158031\n",
      "Step 6/50: 107.59402131843328\n",
      "Step 7/50: 104.51929552765463\n",
      "Step 8/50: 102.55921207180043\n",
      "Step 9/50: 101.74980893893684\n",
      "Step 10/50: 101.33299626943852\n",
      "Step 11/50: 101.99994921620885\n",
      "Step 12/50: 102.62640408757059\n",
      "Step 13/50: 105.16334905066364\n",
      "Step 14/50: 106.51075960850606\n",
      "Step 15/50: 111.95398930108642\n",
      "Step 16/50: 112.51480778888094\n",
      "Step 17/50: 121.17861381607199\n",
      "Step 18/50: 118.25791711204063\n",
      "Step 19/50: 127.40822952403707\n",
      "Step 20/50: 123.66029556457403\n",
      "Step 21/50: 129.21514555733393\n",
      "Step 22/50: 135.84746509058002\n",
      "Step 23/50: 137.23335097754696\n",
      "Step 24/50: 167.95453827703142\n",
      "Step 25/50: 171.24286957581455\n",
      "Step 26/50: 230.94202223950123\n",
      "Step 27/50: 238.18275842360757\n",
      "Step 28/50: 286.88749740492227\n",
      "Step 29/50: 233.5515183506149\n",
      "Step 30/50: 316.3171577586272\n",
      "Step 31/50: 180.47979915337737\n",
      "Step 32/50: 234.97069934382336\n",
      "Step 33/50: 179.646650439852\n",
      "Step 34/50: 222.91379590112652\n",
      "Step 35/50: 186.52560022495535\n",
      "Step 36/50: 114.86716093379945\n",
      "Step 37/50: 97.21355788705758\n",
      "Step 38/50: 91.53828164468298\n",
      "Step 39/50: 90.05205713631177\n",
      "Step 40/50: 90.11096396472867\n",
      "Step 41/50: 90.25977200954408\n",
      "Step 42/50: 91.62389932340369\n",
      "Step 43/50: 92.22916262753519\n",
      "Step 44/50: 95.52197049943389\n",
      "Step 45/50: 95.44071696614279\n",
      "Step 46/50: 100.56342488271899\n",
      "Step 47/50: 98.19513113550526\n",
      "Step 48/50: 102.80812562689307\n",
      "Step 49/50: 99.31853638349864\n",
      "Step 50/50: 102.04912894900167\n"
     ]
    }
   ],
   "source": [
    "solver_results = vqa.solve()\n"
   ]
  },
  {
   "cell_type": "code",
   "execution_count": 11,
   "id": "a40cee06",
   "metadata": {},
   "outputs": [
    {
     "name": "stdout",
     "output_type": "stream",
     "text": [
      "Best params: {'angles': tensor([[ 4.47250999e-04, -4.57264474e-05, -4.62625008e-04,\n",
      "         -6.22284560e-05, -8.98294760e-04, -7.28382942e-04],\n",
      "        [-3.44821329e+02, -8.39647339e+01, -8.00894575e+01,\n",
      "         -1.20494984e+02, -1.49429392e+02, -1.11079908e+02]], requires_grad=True), 'hyper_args': tensor([1], requires_grad=True)}\n"
     ]
    }
   ],
   "source": [
    "print(f\"Best params: {solver_results.params}\")\n"
   ]
  },
  {
   "cell_type": "code",
   "execution_count": 12,
   "id": "4ff8d235",
   "metadata": {},
   "outputs": [
    {
     "name": "stdout",
     "output_type": "stream",
     "text": [
      "Evaluation:\n",
      "17.343457168329923\n",
      "Sort results:\n",
      "Result: 010101, Prob: 0.056672, Evaluation: 28.0\n",
      "Result: 011001, Prob: 0.054887, Evaluation: 28.0\n",
      "Result: 010110, Prob: 0.053184, Evaluation: 28.0\n",
      "Result: 100101, Prob: 0.052898, Evaluation: 28.0\n",
      "Result: 101001, Prob: 0.050745, Evaluation: 28.0\n",
      "Result: 011010, Prob: 0.050608, Evaluation: 28.0\n",
      "Result: 100110, Prob: 0.048114, Evaluation: 28.0\n",
      "Result: 101010, Prob: 0.045148, Evaluation: 0\n",
      "Result: 010010, Prob: 0.033376, Evaluation: 27.0\n",
      "Result: 010001, Prob: 0.033172, Evaluation: 27.0\n",
      "Result: 100001, Prob: 0.032455, Evaluation: 27.0\n",
      "Result: 100010, Prob: 0.031952, Evaluation: 0\n",
      "Result: 011101, Prob: 0.028447, Evaluation: 0\n",
      "Result: 101000, Prob: 0.028036, Evaluation: 0\n",
      "Result: 101101, Prob: 0.025855, Evaluation: 0\n",
      "Result: 100100, Prob: 0.02564, Evaluation: 0\n",
      "Result: 011110, Prob: 0.025546, Evaluation: 0\n",
      "Result: 011000, Prob: 0.024951, Evaluation: 0\n",
      "Result: 001010, Prob: 0.022586, Evaluation: 0\n",
      "Result: 010100, Prob: 0.022528, Evaluation: 0\n"
     ]
    }
   ],
   "source": [
    "from QHyper.util import (\n",
    "    weighted_avg_evaluation, sort_solver_results, add_evaluation_to_results)\n",
    "\n",
    "# Evaluate results with weighted average evaluation\n",
    "print(\"Evaluation:\")\n",
    "print(weighted_avg_evaluation(\n",
    "    solver_results.results_probabilities, problem.get_score,\n",
    "    penalty=0, limit_results=20, normalize=True\n",
    "))\n",
    "print(\"Sort results:\")\n",
    "sorted_results = sort_solver_results(\n",
    "    solver_results.results_probabilities, limit_results=20)\n",
    "\n",
    "# Add evaluation to results\n",
    "results_with_evaluation = add_evaluation_to_results(\n",
    "    sorted_results, problem.get_score, penalty=0)\n",
    "\n",
    "for result, (probability, evaluation) in results_with_evaluation.items():\n",
    "    print(f\"Result: {result}, \"\n",
    "          f\"Prob: {probability:.5}, \"\n",
    "          f\"Evaluation: {evaluation}\")\n"
   ]
  },
  {
   "cell_type": "code",
   "execution_count": 13,
   "id": "554606e3",
   "metadata": {},
   "outputs": [
    {
     "data": {
      "text/plain": [
       "<Axes: xlabel='index', ylabel='value'>"
      ]
     },
     "execution_count": 13,
     "metadata": {},
     "output_type": "execute_result"
    },
    {
     "data": {
      "image/png": "[encoded data removed]",
      "text/plain": [
       "<Figure size 640x480 with 1 Axes>"
      ]
     },
     "metadata": {},
     "output_type": "display_data"
    }
   ],
   "source": [
    "import pandas as pd\n",
    "\n",
    "pd.DataFrame(solver_results.history[0]).reset_index().plot(x='index',y='value', kind='scatter')\n"
   ]
  },
  {
   "cell_type": "code",
   "execution_count": null,
   "id": "9f527c4f",
   "metadata": {},
   "outputs": [],
   "source": []
  }
 ],
 "metadata": {
  "celltoolbar": "Raw Cell Format",
  "kernelspec": {
   "display_name": "Python 3 (ipykernel)",
   "language": "python",
   "name": "python3"
  },
  "language_info": {
   "codemirror_mode": {
    "name": "ipython",
    "version": 3
   },
   "file_extension": ".py",
   "mimetype": "text/x-python",
   "name": "python",
   "nbconvert_exporter": "python",
   "pygments_lexer": "ipython3",
   "version": "3.10.12"
  }
 },
 "nbformat": 4,
 "nbformat_minor": 5
}
