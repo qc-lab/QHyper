{
 "cells": [
  {
   "cell_type": "markdown",
   "id": "d2ef8369",
   "metadata": {},
   "source": [
    "<div class=\"alert alert-warning not-in-docs\">\n",
    "⚠️ Links are not working in the notebook. Please visit <a href=\"https://qhyper.readthedocs.io/en/latest/user_guide/demo/defining_problems.html\">documentation</a> for better experience.\n",
    "</div>"
   ]
  },
  {
   "cell_type": "markdown",
   "id": "9ddc0815",
   "metadata": {},
   "source": [
    "# Defining custom problems and optimizers"
   ]
  },
  {
   "cell_type": "markdown",
   "id": "133ad48e",
   "metadata": {},
   "source": [
    "## A user-defined class\n",
    "\n",
    "A big advantage of using QHyper is the ability to run experiments from a configuration file.\n",
    "However, this only allows to use predefined problems, optimizers and solvers. In this notebook, we present a concise example illustrating how to define a custom problem, although the same principles apply to custom optimizers and solvers. We have chosen to highlight problem definition, as it is likely one of the most practical and valuable use cases for QHyper."
   ]
  },
  {
   "cell_type": "markdown",
   "id": "b6e03f38",
   "metadata": {},
   "source": [
    ".. note::\n",
    "    Any custom [Problem](../../generated/QHyper.problems.rst), [Optimizer](../../generated/QHyper.optimizers.rst) or [Solver](../../generated/QHyper.solvers.rst) class should be implemented in the directory named `custom` or `QHyper/custom`. It is required that these classes inherit from their base classes and implement required methods. The new class will be available in configuration files by its attribute name if provided or by its class name."
   ]
  },
  {
   "cell_type": "markdown",
   "id": "dc7f157c",
   "metadata": {},
   "source": [
    "## Creating a custom problem"
   ]
  },
  {
   "cell_type": "markdown",
   "id": "0764e41b",
   "metadata": {},
   "source": [
    "Assume we want to  minimize $\\underbrace{-2x_0 - 5x_1 - x_0x_1}_{cost function}$ subject to $\\underbrace{x_0 + x_1 = 1}_{constraint\\ eq}$ and $\\underbrace{5x_0 + 2x_1 \\leq 5}_{constraint\\ le}$"
   ]
  },
  {
   "cell_type": "markdown",
   "id": "ff95e859",
   "metadata": {},
   "source": [
    "In QHyper, every problem needs to be a subclass of the [Problem class](../../generated/QHyper.problems.rst).\n",
    "\n",
    "In general, the cost function and every constraint should be expressed as dict-based [Polynomials](../../generated/QHyper.polynomial.rst), but usually it is easier to initially express them in a more user-friendly format (such as SymPy syntax), and then convert it them into Polynomials. A Polynomial is comprised of a dictionary where the keys are tuples containing variables, and the values represent their coefficients.\n",
    "\n",
    "To define the constraints, the [Constraint](../../generated/QHyper.constraint.rst) class is used. Each constraint involves Polynomials on the left-hand side (lhs) and right-hand side (rhs), a comparison operator, and optional data such as a method for handling inequalities, a label, and a group identifier."
   ]
  },
  {
   "cell_type": "markdown",
   "id": "60f6ea6a",
   "metadata": {},
   "source": [
    ".. note::\n",
    "    QHyper always assumes that the objective is to **minimize** the cost function."
   ]
  },
  {
   "cell_type": "markdown",
   "id": "b2293dff",
   "metadata": {},
   "source": [
    "### Using Dict syntax"
   ]
  },
  {
   "cell_type": "code",
   "execution_count": 1,
   "id": "8bb4617a",
   "metadata": {},
   "outputs": [],
   "source": [
    "import numpy as np\n",
    "\n",
    "from QHyper.problems.base import Problem\n",
    "from QHyper.constraint import Constraint, Operator, UNBALANCED_PENALIZATION\n",
    "from QHyper.polynomial import Polynomial\n",
    "\n",
    "class CustomProblem(Problem):\n",
    "    def __init__(self) -> None:\n",
    "        self.objective_function = self._create_objective_function()\n",
    "        self.constraints = self._create_constraints()\n",
    "\n",
    "    def _create_objective_function(self) -> Polynomial:\n",
    "        # Express the cost function as a dict. The keys are tuples containing variables, and the values represent the coefficients.\n",
    "        objective_function = {('x0',): -2.0, ('x1',): -5.0, ('x0', 'x1'): -1.0}\n",
    "        \n",
    "        # Create a Polynomial based on the objective function.\n",
    "        return Polynomial(objective_function)\n",
    "\n",
    "    def _create_constraints(self) -> list[Constraint]:\n",
    "        # To add a new constraint, define the left-hand-side, and right-hand-side of the constraint.\n",
    "        # Also, specify the comparison operator and in the case of inequality opertor --- the method for handling the inequality.\n",
    "        \n",
    "        constraints = [\n",
    "            Constraint(lhs={('x0',): 1.0, ('x1',): 1.0}, rhs={(): 1},\n",
    "                       operator=Operator.EQ),\n",
    "            Constraint(lhs={('x0',): 5.0, ('x1',): 2.0}, rhs={(): 5}, \n",
    "                       operator=Operator.LE,\n",
    "                       method_for_inequalities=UNBALANCED_PENALIZATION)\n",
    "        ]\n",
    "        return constraints\n",
    "\n",
    "    def get_score(self, result: np.record, penalty: float = 0) -> float:\n",
    "        # This function is used by solvers to evaluate the quality of the result (business value).\n",
    "        \n",
    "        # If the constraints are satisfied return the value of the objective function.\n",
    "        if result['x0'] + result['x1'] == 1 and 5 * result['x0'] + 2 * result['x1'] <= 5:\n",
    "            return -2 * result['x0'] - 5 * result['x1'] - result['x0'] * result['x1']\n",
    "        \n",
    "        # Otherwise return some arbitrary penalty\n",
    "        return penalty"
   ]
  },
  {
   "cell_type": "markdown",
   "id": "05a6f423",
   "metadata": {},
   "source": [
    "### Using SymPy syntax"
   ]
  },
  {
   "cell_type": "code",
   "execution_count": 2,
   "id": "f1b53678",
   "metadata": {},
   "outputs": [],
   "source": [
    "import sympy\n",
    "import numpy as np\n",
    "from QHyper.problems.base import Problem\n",
    "from QHyper.constraint import Constraint, Operator, UNBALANCED_PENALIZATION\n",
    "from QHyper.polynomial import Polynomial\n",
    "from QHyper.parser import from_sympy\n",
    "\n",
    "\n",
    "class CustomProblem(Problem):\n",
    "    def __init__(self) -> None:\n",
    "        # Define the necessary SymPy variables.\n",
    "        num_variables = 2\n",
    "        self.x = sympy.symbols(f'x0:{num_variables}')\n",
    "        self.objective_function = self._create_objective_function()\n",
    "        self.constraints = self._create_constraints()\n",
    "\n",
    "    def _create_objective_function(self) -> Polynomial:\n",
    "        # Define the cost function.\n",
    "        objective_function = -2 * self.x[0] - 5 * self.x[1] - self.x[0] * self.x[1]\n",
    "        \n",
    "        # Return the cost function parsed into a Polynomial\n",
    "        return from_sympy(objective_function)\n",
    "\n",
    "    def _create_constraints(self) -> list[Constraint]:\n",
    "        # To add a new constraint, define the left-hand-side, and right-hand-side of the constraint.\n",
    "        # Also, specify the comparison operator and in the case of inequality opertor --- the method for handling the inequality.\n",
    "        \n",
    "        return [ \n",
    "            Constraint( \n",
    "                lhs=from_sympy(self.x[0] + self.x[1]),\n",
    "                rhs=1,\n",
    "                operator=Operator.EQ\n",
    "            ),\n",
    "            Constraint(\n",
    "                lhs=from_sympy(5 * self.x[0] + 2 * self.x[1]),\n",
    "                rhs=5,\n",
    "                operator=Operator.LE,\n",
    "                method_for_inequalities=UNBALANCED_PENALIZATION,\n",
    "            )\n",
    "        ]\n",
    "\n",
    "    def get_score(self, result: np.record, penalty: float = 0) -> float:\n",
    "        # This function is used by solvers to evaluate the quality of the result (business value).\n",
    "        \n",
    "        # If the constraints are satisfied return the value of the objective function.\n",
    "        if result['x0'] + result['x1'] == 1 and 5 * result['x0'] + 2 * result['x1'] <= 5:\n",
    "            return -2 * result['x0'] - 5 * result['x1'] - result['x0'] * result['x1']\n",
    "        \n",
    "        # Otherwise return some arbitrary penalty\n",
    "        return penalty"
   ]
  },
  {
   "cell_type": "markdown",
   "id": "d8497900",
   "metadata": {},
   "source": [
    ".. note::\n",
    "    For bigger problem instances, SymPy syntax is significantly slower than the Dict syntax."
   ]
  },
  {
   "cell_type": "markdown",
   "id": "53718472",
   "metadata": {},
   "source": [
    "To explore solvers for tackling this problem, check out this [tutorial](../solver_configuration.rst)."
   ]
  },
  {
   "cell_type": "markdown",
   "id": "6e2daea4",
   "metadata": {},
   "source": [
    "## Creating a custom optimizer"
   ]
  },
  {
   "cell_type": "markdown",
   "id": "927f0c37",
   "metadata": {},
   "source": [
    "In order to define a custom optimizer, it is necessary to inherit from the [Optimizer](../../generated/generated/QHyper.optimizers.Optimizer.rst) base class and implement the `minimize` method."
   ]
  },
  {
   "cell_type": "code",
   "execution_count": 3,
   "id": "4394fcb9",
   "metadata": {},
   "outputs": [],
   "source": [
    "import numpy as np\n",
    "\n",
    "from typing import Callable\n",
    "\n",
    "from QHyper.optimizers.base import (\n",
    "    Optimizer, OptimizationResult, OptimizerError, OptimizationParameter)\n",
    "\n",
    "\n",
    "class CustomOptimizer(Optimizer):\n",
    "\n",
    "    def minimize(\n",
    "        self,\n",
    "        func: Callable[[list[float]], OptimizationResult],\n",
    "        init: OptimizationParameter | None,\n",
    "        steps: int = 10,\n",
    "        step_size: float = 1.,\n",
    "    ) -> OptimizationResult:\n",
    "        \n",
    "        # Check if initial parameters are valid\n",
    "        if init is None:\n",
    "            raise OptimizerError(\"Initial point must be provided.\")\n",
    "        init.assert_init()\n",
    "        \n",
    "        # Initialize current parameter and its function value\n",
    "        current_param = init.init[0]\n",
    "        current_value = func(current_param)\n",
    "        history = []\n",
    "        \n",
    "        for _ in range(steps):\n",
    "            # Propose a new candidate by random perturbation\n",
    "            candidate_param = current_param + np.random.uniform(-step_size, step_size)\n",
    "            candidate_value = func(candidate_param)\n",
    "            \n",
    "            # Accept the candidate if it improves the objective\n",
    "            if candidate_value < current_value:\n",
    "                current_param, current_value = candidate_param, candidate_value\n",
    "            \n",
    "            # Record the result of this optimization step\n",
    "            current_optimization_result = OptimizationResult(value=candidate_value, \n",
    "                                                             params=[candidate_param])\n",
    "            history.append(current_optimization_result)\n",
    "\n",
    "        # Return the best objective function value found after optimization \n",
    "        # as well as the corresponding parameter and the history of optimization trials\n",
    "        return OptimizationResult(value=current_value,\n",
    "                                  params=[current_param],\n",
    "                                  history=[history])\n"
   ]
  },
  {
   "cell_type": "markdown",
   "id": "c6a51509",
   "metadata": {},
   "source": [
    "The following example demonstrates how to use the optimizer with a simple function `f` as the objective."
   ]
  },
  {
   "cell_type": "code",
   "execution_count": 4,
   "id": "dee58c0a",
   "metadata": {},
   "outputs": [
    {
     "data": {
      "text/plain": [
       "OptimizationResult(value=0.012911237077660507, params=[1.8863723753761414], history=[[OptimizationResult(value=5.80830991335693, params=[-0.410043550095502], history=[]), OptimizationResult(value=5.255084670119016, params=[-0.29239714493780866], history=[]), OptimizationResult(value=2.5763099383389783, params=[0.39491123661680994], history=[]), OptimizationResult(value=3.976884436512944, params=[0.005787263977851342], history=[]), OptimizationResult(value=0.4254175872601739, params=[1.3477595633049313], history=[]), OptimizationResult(value=1.3004339816666544, params=[0.8596342772309165], history=[]), OptimizationResult(value=0.022387632127825227, params=[1.8503750283949059], history=[]), OptimizationResult(value=0.28655020941040277, params=[1.4646961522551862], history=[]), OptimizationResult(value=0.012911237077660507, params=[1.8863723753761414], history=[]), OptimizationResult(value=0.025056148831267524, params=[2.15829134161813], history=[])]])"
      ]
     },
     "execution_count": 4,
     "metadata": {},
     "output_type": "execute_result"
    }
   ],
   "source": [
    "def f(x):\n",
    "    return (x - 2)**2\n",
    "\n",
    "custom_optimizer = CustomOptimizer()\n",
    "init = OptimizationParameter(init=[0])\n",
    "custom_optimizer.minimize(f, init)"
   ]
  },
  {
   "cell_type": "markdown",
   "id": "edf71b12",
   "metadata": {},
   "source": [
    "Another example of a straightforward implementation of a custom optimizer is a [Dummy](../../generated/generated/QHyper.optimizers.dummy.Dummy.rst) optimizer which just evaluates the function."
   ]
  }
 ],
 "metadata": {
  "kernelspec": {
   "display_name": "venv",
   "language": "python",
   "name": "python3"
  },
  "language_info": {
   "codemirror_mode": {
    "name": "ipython",
    "version": 3
   },
   "file_extension": ".py",
   "mimetype": "text/x-python",
   "name": "python",
   "nbconvert_exporter": "python",
   "pygments_lexer": "ipython3",
   "version": "3.12.6"
  }
 },
 "nbformat": 4,
 "nbformat_minor": 5
}
